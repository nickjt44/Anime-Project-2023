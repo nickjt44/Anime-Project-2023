{
 "cells": [
  {
   "cell_type": "markdown",
   "id": "5c561934",
   "metadata": {},
   "source": [
    "In this notebook I will be evaluating my two models: Inductive Matrix Factorization and IGMC."
   ]
  },
  {
   "cell_type": "code",
   "execution_count": 6,
   "id": "5fb2c824",
   "metadata": {},
   "outputs": [],
   "source": [
    "import pandas as pd\n",
    "import matplotlib.pyplot as plt\n",
    "from sklearn.utils import shuffle\n",
    "from models import MF_inc, IGMC\n",
    "import tensorflow as tf\n",
    "import keras\n",
    "from scipy.sparse import csr_matrix, coo_matrix, lil_matrix, csc_matrix\n",
    "from graph_extraction import *\n",
    "\n",
    "from spektral.data import Dataset, DisjointLoader, Graph, BatchLoader\n",
    "from spektral.data.utils import to_disjoint"
   ]
  },
  {
   "cell_type": "code",
   "execution_count": 4,
   "id": "4b6f526f",
   "metadata": {},
   "outputs": [],
   "source": [
    "users = pd.read_csv('users_for_training_new_mapping.csv',index_col=0)"
   ]
  },
  {
   "cell_type": "code",
   "execution_count": 5,
   "id": "8153049f",
   "metadata": {},
   "outputs": [
    {
     "data": {
      "text/plain": [
       "(1534489, 4)"
      ]
     },
     "execution_count": 5,
     "metadata": {},
     "output_type": "execute_result"
    }
   ],
   "source": [
    "users.shape"
   ]
  },
  {
   "cell_type": "code",
   "execution_count": 6,
   "id": "896579bb",
   "metadata": {},
   "outputs": [
    {
     "data": {
      "text/html": [
       "<div>\n",
       "<style scoped>\n",
       "    .dataframe tbody tr th:only-of-type {\n",
       "        vertical-align: middle;\n",
       "    }\n",
       "\n",
       "    .dataframe tbody tr th {\n",
       "        vertical-align: top;\n",
       "    }\n",
       "\n",
       "    .dataframe thead th {\n",
       "        text-align: right;\n",
       "    }\n",
       "</style>\n",
       "<table border=\"1\" class=\"dataframe\">\n",
       "  <thead>\n",
       "    <tr style=\"text-align: right;\">\n",
       "      <th></th>\n",
       "      <th>UserID</th>\n",
       "      <th>AnimeID</th>\n",
       "      <th>Score</th>\n",
       "      <th>User_Mapped</th>\n",
       "    </tr>\n",
       "  </thead>\n",
       "  <tbody>\n",
       "    <tr>\n",
       "      <th>0</th>\n",
       "      <td>1</td>\n",
       "      <td>102</td>\n",
       "      <td>7</td>\n",
       "      <td>0</td>\n",
       "    </tr>\n",
       "    <tr>\n",
       "      <th>1</th>\n",
       "      <td>1</td>\n",
       "      <td>3229</td>\n",
       "      <td>5</td>\n",
       "      <td>0</td>\n",
       "    </tr>\n",
       "    <tr>\n",
       "      <th>2</th>\n",
       "      <td>1</td>\n",
       "      <td>4730</td>\n",
       "      <td>6</td>\n",
       "      <td>0</td>\n",
       "    </tr>\n",
       "    <tr>\n",
       "      <th>3</th>\n",
       "      <td>1</td>\n",
       "      <td>589</td>\n",
       "      <td>10</td>\n",
       "      <td>0</td>\n",
       "    </tr>\n",
       "    <tr>\n",
       "      <th>4</th>\n",
       "      <td>1</td>\n",
       "      <td>182</td>\n",
       "      <td>7</td>\n",
       "      <td>0</td>\n",
       "    </tr>\n",
       "  </tbody>\n",
       "</table>\n",
       "</div>"
      ],
      "text/plain": [
       "   UserID  AnimeID  Score  User_Mapped\n",
       "0       1      102      7            0\n",
       "1       1     3229      5            0\n",
       "2       1     4730      6            0\n",
       "3       1      589     10            0\n",
       "4       1      182      7            0"
      ]
     },
     "execution_count": 6,
     "metadata": {},
     "output_type": "execute_result"
    }
   ],
   "source": [
    "users.head()"
   ]
  },
  {
   "cell_type": "code",
   "execution_count": 7,
   "id": "defc1cfe",
   "metadata": {},
   "outputs": [
    {
     "data": {
      "text/plain": [
       "array([   1,   10, 1000, ..., 9993, 9996, 9998], dtype=int64)"
      ]
     },
     "execution_count": 7,
     "metadata": {},
     "output_type": "execute_result"
    }
   ],
   "source": [
    "users.UserID.unique()"
   ]
  },
  {
   "cell_type": "markdown",
   "id": "2ce84e1e",
   "metadata": {},
   "source": [
    "We shuffle the users as we did for training the IGMC algorithm, and select all the users that weren't used for training or validation, ie. mapped users 6000 and on."
   ]
  },
  {
   "cell_type": "code",
   "execution_count": 8,
   "id": "c1c94663",
   "metadata": {},
   "outputs": [],
   "source": [
    "users_test = users[users.User_Mapped.isin(shuffle(users.User_Mapped.unique(),random_state=42)[6000:])]"
   ]
  },
  {
   "cell_type": "code",
   "execution_count": 9,
   "id": "e537e1ab",
   "metadata": {},
   "outputs": [],
   "source": [
    "vc = users_test.UserID.value_counts()"
   ]
  },
  {
   "cell_type": "code",
   "execution_count": 8,
   "id": "24244379",
   "metadata": {},
   "outputs": [
    {
     "name": "stderr",
     "output_type": "stream",
     "text": [
      "C:\\Users\\nickj\\AppData\\Local\\Temp\\ipykernel_15328\\2813286631.py:1: SettingWithCopyWarning: \n",
      "A value is trying to be set on a copy of a slice from a DataFrame.\n",
      "Try using .loc[row_indexer,col_indexer] = value instead\n",
      "\n",
      "See the caveats in the documentation: https://pandas.pydata.org/pandas-docs/stable/user_guide/indexing.html#returning-a-view-versus-a-copy\n",
      "  users_test['vc'] = users_test.apply(lambda x: vc[x[0]],axis=1)\n"
     ]
    }
   ],
   "source": [
    "users_test['vc'] = users_test.apply(lambda x: vc[x[0]],axis=1)"
   ]
  },
  {
   "cell_type": "code",
   "execution_count": 9,
   "id": "e935f89f",
   "metadata": {},
   "outputs": [
    {
     "data": {
      "text/html": [
       "<div>\n",
       "<style scoped>\n",
       "    .dataframe tbody tr th:only-of-type {\n",
       "        vertical-align: middle;\n",
       "    }\n",
       "\n",
       "    .dataframe tbody tr th {\n",
       "        vertical-align: top;\n",
       "    }\n",
       "\n",
       "    .dataframe thead th {\n",
       "        text-align: right;\n",
       "    }\n",
       "</style>\n",
       "<table border=\"1\" class=\"dataframe\">\n",
       "  <thead>\n",
       "    <tr style=\"text-align: right;\">\n",
       "      <th></th>\n",
       "      <th>UserID</th>\n",
       "      <th>AnimeID</th>\n",
       "      <th>Score</th>\n",
       "      <th>User_Mapped</th>\n",
       "      <th>vc</th>\n",
       "    </tr>\n",
       "  </thead>\n",
       "  <tbody>\n",
       "    <tr>\n",
       "      <th>232</th>\n",
       "      <td>10000</td>\n",
       "      <td>221</td>\n",
       "      <td>9</td>\n",
       "      <td>3</td>\n",
       "      <td>28</td>\n",
       "    </tr>\n",
       "    <tr>\n",
       "      <th>233</th>\n",
       "      <td>10000</td>\n",
       "      <td>1380</td>\n",
       "      <td>6</td>\n",
       "      <td>3</td>\n",
       "      <td>28</td>\n",
       "    </tr>\n",
       "    <tr>\n",
       "      <th>234</th>\n",
       "      <td>10000</td>\n",
       "      <td>274</td>\n",
       "      <td>7</td>\n",
       "      <td>3</td>\n",
       "      <td>28</td>\n",
       "    </tr>\n",
       "    <tr>\n",
       "      <th>235</th>\n",
       "      <td>10000</td>\n",
       "      <td>61</td>\n",
       "      <td>10</td>\n",
       "      <td>3</td>\n",
       "      <td>28</td>\n",
       "    </tr>\n",
       "    <tr>\n",
       "      <th>236</th>\n",
       "      <td>10000</td>\n",
       "      <td>472</td>\n",
       "      <td>9</td>\n",
       "      <td>3</td>\n",
       "      <td>28</td>\n",
       "    </tr>\n",
       "  </tbody>\n",
       "</table>\n",
       "</div>"
      ],
      "text/plain": [
       "     UserID  AnimeID  Score  User_Mapped  vc\n",
       "232   10000      221      9            3  28\n",
       "233   10000     1380      6            3  28\n",
       "234   10000      274      7            3  28\n",
       "235   10000       61     10            3  28\n",
       "236   10000      472      9            3  28"
      ]
     },
     "execution_count": 9,
     "metadata": {},
     "output_type": "execute_result"
    }
   ],
   "source": [
    "users_test.head()"
   ]
  },
  {
   "cell_type": "markdown",
   "id": "d65be450",
   "metadata": {},
   "source": [
    "The test users are filtered by the number of anime they've watched, since we'll be needing to split them into 'known' and 'unknown' ratings for the testing process, and there need to be a substantial amount in each subset."
   ]
  },
  {
   "cell_type": "code",
   "execution_count": 10,
   "id": "f2c53ab7",
   "metadata": {},
   "outputs": [],
   "source": [
    "users_test = users_test[users_test.vc >= 100]\n",
    "users_test = users_test.drop('vc',axis=1)"
   ]
  },
  {
   "cell_type": "code",
   "execution_count": 11,
   "id": "a95e2248",
   "metadata": {},
   "outputs": [
    {
     "data": {
      "text/html": [
       "<div>\n",
       "<style scoped>\n",
       "    .dataframe tbody tr th:only-of-type {\n",
       "        vertical-align: middle;\n",
       "    }\n",
       "\n",
       "    .dataframe tbody tr th {\n",
       "        vertical-align: top;\n",
       "    }\n",
       "\n",
       "    .dataframe thead th {\n",
       "        text-align: right;\n",
       "    }\n",
       "</style>\n",
       "<table border=\"1\" class=\"dataframe\">\n",
       "  <thead>\n",
       "    <tr style=\"text-align: right;\">\n",
       "      <th></th>\n",
       "      <th>UserID</th>\n",
       "      <th>AnimeID</th>\n",
       "      <th>Score</th>\n",
       "      <th>User_Mapped</th>\n",
       "    </tr>\n",
       "  </thead>\n",
       "  <tbody>\n",
       "    <tr>\n",
       "      <th>260</th>\n",
       "      <td>10001</td>\n",
       "      <td>61</td>\n",
       "      <td>10</td>\n",
       "      <td>4</td>\n",
       "    </tr>\n",
       "    <tr>\n",
       "      <th>261</th>\n",
       "      <td>10001</td>\n",
       "      <td>1318</td>\n",
       "      <td>6</td>\n",
       "      <td>4</td>\n",
       "    </tr>\n",
       "    <tr>\n",
       "      <th>262</th>\n",
       "      <td>10001</td>\n",
       "      <td>4887</td>\n",
       "      <td>6</td>\n",
       "      <td>4</td>\n",
       "    </tr>\n",
       "    <tr>\n",
       "      <th>263</th>\n",
       "      <td>10001</td>\n",
       "      <td>2107</td>\n",
       "      <td>6</td>\n",
       "      <td>4</td>\n",
       "    </tr>\n",
       "    <tr>\n",
       "      <th>264</th>\n",
       "      <td>10001</td>\n",
       "      <td>1491</td>\n",
       "      <td>6</td>\n",
       "      <td>4</td>\n",
       "    </tr>\n",
       "  </tbody>\n",
       "</table>\n",
       "</div>"
      ],
      "text/plain": [
       "     UserID  AnimeID  Score  User_Mapped\n",
       "260   10001       61     10            4\n",
       "261   10001     1318      6            4\n",
       "262   10001     4887      6            4\n",
       "263   10001     2107      6            4\n",
       "264   10001     1491      6            4"
      ]
     },
     "execution_count": 11,
     "metadata": {},
     "output_type": "execute_result"
    }
   ],
   "source": [
    "users_test.head()"
   ]
  },
  {
   "cell_type": "code",
   "execution_count": 12,
   "id": "c933d990",
   "metadata": {},
   "outputs": [
    {
     "data": {
      "text/plain": [
       "988"
      ]
     },
     "execution_count": 12,
     "metadata": {},
     "output_type": "execute_result"
    }
   ],
   "source": [
    "len(users_test.UserID.unique())"
   ]
  },
  {
   "cell_type": "markdown",
   "id": "92191fb1",
   "metadata": {},
   "source": [
    "Now we need to split the test users into data that already 'exists' that can be fed into the algorithm to establish the user's preferences, and 'unseen' data that we are trying to predict as accurately as possible. The cutoff will be set to half the total data if the number of entries for the user is lower than 200, otherwise it will be set to 100."
   ]
  },
  {
   "cell_type": "code",
   "execution_count": 13,
   "id": "787aaf65",
   "metadata": {},
   "outputs": [],
   "source": [
    "for user in users_test.User_Mapped.unique():\n",
    "    userdata = users_test[users_test['User_Mapped'] == user]\n",
    "    if len(userdata) <= 200:\n",
    "        cutoff = int(len(userdata)/2)\n",
    "    else:\n",
    "        cutoff = 100\n",
    "    userdata.iloc[:cutoff,:].to_csv('holdout_known/User_'+str(user)+'.csv')\n",
    "    userdata.iloc[cutoff:,:].to_csv('holdout_unknown/User_'+str(user)+'.csv')\n",
    "    "
   ]
  },
  {
   "cell_type": "markdown",
   "id": "81a1f005",
   "metadata": {},
   "source": [
    "As a means of initial comparison, I will implement a simple 'random' model."
   ]
  },
  {
   "cell_type": "code",
   "execution_count": 36,
   "id": "f30a76ff",
   "metadata": {},
   "outputs": [],
   "source": [
    "def random_model():\n",
    "    users = 0\n",
    "    APsum = 0\n",
    "    for filename in os.listdir('holdout_unknown'):\n",
    "        users += 1\n",
    "        f_known = pd.read_csv('holdout_known/' + filename)\n",
    "        f_unknown = pd.read_csv('holdout_unknown/' + filename)\n",
    "        f_unknown = f_unknown.sample(frac=1,random_state=42)\n",
    "        f_unknown = zscore(f_known,f_unknown)\n",
    "        \n",
    "        largest = f_unknown.iloc[:5,:]\n",
    "        \n",
    "        print(largest)\n",
    "         # calculate MAP\n",
    "        rel = 0\n",
    "        AP = 0\n",
    "        for i in largest.index:\n",
    "            rel += relevance(largest.loc[i,'Score'],largest.loc[i,'Zscore'])\n",
    "            AP += (rel/(i+1))\n",
    "        AP = AP/len(largest)\n",
    "            \n",
    "        APsum += AP\n",
    "        MAP = APsum/users\n",
    "        #print(MAP)\n",
    "    print(MAP)"
   ]
  },
  {
   "cell_type": "code",
   "execution_count": null,
   "id": "95af8f40",
   "metadata": {},
   "outputs": [],
   "source": [
    "random_model()"
   ]
  },
  {
   "cell_type": "markdown",
   "id": "1156dd72",
   "metadata": {},
   "source": [
    "MAP: 0.1084382679466956"
   ]
  },
  {
   "cell_type": "code",
   "execution_count": null,
   "id": "0b4732c9",
   "metadata": {},
   "outputs": [],
   "source": []
  },
  {
   "cell_type": "markdown",
   "id": "8bdbf85f",
   "metadata": {},
   "source": [
    "The function below determines whether an anime is 'relevant' to a particular user, relevance being determined by a score above 9 or a standardized score above 0.5."
   ]
  },
  {
   "cell_type": "code",
   "execution_count": 21,
   "id": "312cdd97",
   "metadata": {},
   "outputs": [],
   "source": [
    "def relevance(score,zscore):\n",
    "    if score >= 9:\n",
    "        return 1\n",
    "    elif zscore >= 0.5:\n",
    "        return 1\n",
    "    else:\n",
    "        return 0"
   ]
  },
  {
   "cell_type": "markdown",
   "id": "7c06cf44",
   "metadata": {},
   "source": [
    "The function below calculates the standardized score for unknown data from the mean and standard deviation of the known data."
   ]
  },
  {
   "cell_type": "code",
   "execution_count": 11,
   "id": "76a5fec7",
   "metadata": {},
   "outputs": [],
   "source": [
    "def zscore(known,unknown):\n",
    "    zmean = known['Score'].mean()\n",
    "    zstd = known['Score'].std()\n",
    "    unknown['Zscore'] = (unknown['Score'] - zmean)/zstd\n",
    "    return unknown"
   ]
  },
  {
   "cell_type": "code",
   "execution_count": null,
   "id": "c7572a7b",
   "metadata": {},
   "outputs": [],
   "source": []
  },
  {
   "cell_type": "markdown",
   "id": "34543f9c",
   "metadata": {},
   "source": [
    "Now, it's time to evaluate my primary models: Matrix Factorization and IGMC."
   ]
  },
  {
   "cell_type": "markdown",
   "id": "5b69d47a",
   "metadata": {},
   "source": [
    "First, evaluate Matrix Factorization using one-sided least squares."
   ]
  },
  {
   "cell_type": "markdown",
   "id": "b18629c2",
   "metadata": {},
   "source": [
    "The code below is necessary in order to reload the saved model weights for the final Matrix Factorization model. There may be a more succinct way to achieve this, but this format serves the purpose."
   ]
  },
  {
   "cell_type": "code",
   "execution_count": 21,
   "id": "497a728a",
   "metadata": {},
   "outputs": [
    {
     "name": "stderr",
     "output_type": "stream",
     "text": [
      "C:\\Users\\nickj\\AppData\\Local\\Temp\\ipykernel_11236\\3688267544.py:6: SettingWithCopyWarning: \n",
      "A value is trying to be set on a copy of a slice from a DataFrame.\n",
      "Try using .loc[row_indexer,col_indexer] = value instead\n",
      "\n",
      "See the caveats in the documentation: https://pandas.pydata.org/pandas-docs/stable/user_guide/indexing.html#returning-a-view-versus-a-copy\n",
      "  data['User_Mapped_MF'] = data.UserID.replace(user_mapping)\n"
     ]
    }
   ],
   "source": [
    "df = pd.read_csv('users_for_training_new_mapping.csv',index_col=0)\n",
    "anime = pd.read_csv('anime_REINDEXED.csv',index_col=0)\n",
    "data = df[df.User_Mapped.isin(shuffle(df.User_Mapped.unique(),random_state=42)[:6000])]\n",
    "\n",
    "user_mapping = {v: k-1 for k, v in enumerate(data['UserID'].unique(), 1)}\n",
    "data['User_Mapped_MF'] = data.UserID.replace(user_mapping)\n",
    "data = data.sample(frac=1,random_state=42)\n",
    "\n",
    "train_data = data.iloc[:int(len(data)*0.9),:]\n",
    "val_data = data.iloc[int(len(data)*0.9):,:]\n",
    "\n",
    "N = len(data['User_Mapped_MF'].unique())\n",
    "M = anime.shape[0]\n",
    "mu = train_data.Score.mean()\n",
    "model_reg = [0,0]\n",
    "\n",
    "mf = MF_inc(20,N,M,model_reg,mu)\n",
    "mf.create_model()\n",
    "mf.model.load_weights('checkpoints/model_mf.h5')"
   ]
  },
  {
   "cell_type": "markdown",
   "id": "04704e71",
   "metadata": {},
   "source": [
    "The function below evaluates the Matrix Factorization update method. It calculates both the squared error and MAP for the unknown data. The Final RMSE is calculated by dividing the squared error by the count and taking the square root."
   ]
  },
  {
   "cell_type": "code",
   "execution_count": 40,
   "id": "e6a35527",
   "metadata": {},
   "outputs": [],
   "source": [
    "def evaluate_MF():\n",
    "    count = 0\n",
    "    sqerror = 0\n",
    "    users = 0\n",
    "    APsum = 0\n",
    "    MAP = 0\n",
    "    for f in os.listdir('holdout_known'):\n",
    "        users += 1\n",
    "        known = pd.read_csv('holdout_known/' + f)\n",
    "        unknown = pd.read_csv('holdout_unknown/' + f)\n",
    "        zmean = known['Score'].mean()\n",
    "        zstd = known['Score'].std()\n",
    "        unknown['Zscore'] = (unknown['Score'] - zmean)/zstd\n",
    "        known_data = [(known.loc[i,'AnimeID'],known.loc[i,'Score']) for i in known.index]\n",
    "        unknown_data = [(unknown.loc[i,'AnimeID'],unknown.loc[i,'Score']) for i in unknown.index]\n",
    "        recs = mf.update(data=known_data,reg=1)\n",
    "        unknown['Prediction'] = unknown['AnimeID'].apply(lambda x: recs[x][0])\n",
    "        print(unknown['Prediction'])\n",
    "        largest = unknown.nlargest(5,'Prediction')\n",
    "        \n",
    "        print(largest)\n",
    "        # calculate mse\n",
    "        for d in unknown_data:\n",
    "            try:\n",
    "                sqerror += (min(recs[d[0]],10)-d[1])**2\n",
    "                count += 1\n",
    "            except:\n",
    "                continue\n",
    "\n",
    "        # calculate MAP\n",
    "        rel = 0\n",
    "        AP = 0\n",
    "        for i in range(len(largest.index)):\n",
    "            rel += relevance(largest.loc[largest.index[i],'Score'],largest.loc[largest.index[i],'Zscore'])\n",
    "            AP += (rel/(i+1))\n",
    "        AP = AP/len(largest)\n",
    "\n",
    "        APsum += AP\n",
    "        MAP = APsum/users\n",
    "\n",
    "        print(sqerror)\n",
    "        print(count)\n",
    "        print(MAP)"
   ]
  },
  {
   "cell_type": "code",
   "execution_count": null,
   "id": "bf3bbeae",
   "metadata": {},
   "outputs": [],
   "source": [
    "evaluate_MF()"
   ]
  },
  {
   "cell_type": "markdown",
   "id": "972c9033",
   "metadata": {},
   "source": [
    "SE: 306117.56515479\n",
    "Count: 184027\n",
    "MAP: 0.6917341430499321"
   ]
  },
  {
   "cell_type": "markdown",
   "id": "763e320c",
   "metadata": {},
   "source": [
    "The results for the Matrix Factorization model are shown below."
   ]
  },
  {
   "cell_type": "code",
   "execution_count": 10,
   "id": "13571e04",
   "metadata": {},
   "outputs": [
    {
     "name": "stdout",
     "output_type": "stream",
     "text": [
      "RMSE: 1.289743512418556\n",
      "MAP: 0.6917341430499321\n"
     ]
    }
   ],
   "source": [
    "print('RMSE: ' + str(np.sqrt(306117.56515479/184027)))\n",
    "print('MAP: ' + str(0.6917341430499321))"
   ]
  },
  {
   "cell_type": "code",
   "execution_count": null,
   "id": "7e2cab45",
   "metadata": {},
   "outputs": [],
   "source": []
  },
  {
   "cell_type": "markdown",
   "id": "402add93",
   "metadata": {},
   "source": [
    "Next, evaluate the IGMC model."
   ]
  },
  {
   "cell_type": "markdown",
   "id": "250b3a67",
   "metadata": {},
   "source": [
    "In order to reload the saved weights, I first need to start running the model to initialize the weights, the methods below are from "
   ]
  },
  {
   "cell_type": "code",
   "execution_count": 2,
   "id": "c6cad117",
   "metadata": {},
   "outputs": [],
   "source": [
    "def train_step(inputs,target,step):\n",
    "    \"\"\"\n",
    "    This function computes a training step via calling the model on the input batch, with training set to True,\n",
    "    and comparing the predictions to the target value, in addition to the regularization loss computed by\n",
    "    the adjacent regularization term, which limits the magnitude of the difference between weight values corresponding\n",
    "    to adjacent ratings (eg. 5,6 or 9,10).\n",
    "    \n",
    "    Tensorflow's GradientTape class is used to implement the training and feeding the gradients back into the optimizer\n",
    "    to adjust the weights.\n",
    "\n",
    "    \"\"\"\n",
    "    tf.config.run_functions_eagerly(True)\n",
    "    if step%200 == 0:\n",
    "        print(target)\n",
    "    with tf.GradientTape() as tape:\n",
    "        predictions = model(inputs,training=True)\n",
    "        reg_loss = 0\n",
    "        for conv in model.convs:\n",
    "            coeffs = conv.r_kernels\n",
    "            reg_loss += ARRNorm(0.00001,coeffs)\n",
    "        loss = loss_fn(target,tf.transpose(predictions))\n",
    "        total_loss = loss + reg_loss\n",
    "    if step%200 == 0:\n",
    "        print(predictions)\n",
    "        print(f\"Loss: {loss}, reg loss: {reg_loss}\")\n",
    "    gradients = tape.gradient(total_loss, model.trainable_variables)\n",
    "    optimizer.apply_gradients(zip(gradients, model.trainable_variables))\n",
    "    return loss"
   ]
  },
  {
   "cell_type": "code",
   "execution_count": 3,
   "id": "1028dd43",
   "metadata": {},
   "outputs": [],
   "source": [
    "class CustomGenerator(tf.keras.utils.Sequence):\n",
    "    \"\"\"\n",
    "    This class generates the data for the deep learning model to learn from.\n",
    "    \n",
    "    The data is either for training or validation, determined by one of the arguments to init. The \n",
    "    methods to construct the enclosing subgraphs are called for each batch of data, and these graphs are fed\n",
    "    into the machine learning algorithm in disjoint form (ie. as one large matrix, since this is how some of the underlying\n",
    "    layers best handle the data).\n",
    "    \n",
    "    I limited the batch size to 8, since in disjoint form a lot of memory is used, and I didn't want to overload my\n",
    "    laptop.\n",
    "    \"\"\"\n",
    "    def __init__(self,data,anime,csr,batch_size=8,data_type='train',split=0.9):\n",
    "        self.batch_size = batch_size\n",
    "        if data_type == 'train':\n",
    "            self.data = data.iloc[:int(len(data)*split),:]\n",
    "        elif data_type == 'val':\n",
    "            self.data = data.iloc[int(len(data)*split):,:]\n",
    "            \n",
    "        self.anime = anime\n",
    "        self.csr = csr\n",
    "        self.sg = EnclosingSubgraph(csr)\n",
    "        self.sg.index_rows_cols()\n",
    "        self.valid = self.data.shape[0]\n",
    "        \n",
    "    def __len__(self):\n",
    "        l = int(np.floor(self.valid/self.batch_size))\n",
    "        return l\n",
    "    \n",
    "    def __getitem__(self,idx):\n",
    "        idxs = [item for item in range(idx*self.batch_size,(idx+1)*self.batch_size)] \n",
    "        g_list = []\n",
    "        x_list = []\n",
    "        a_list = []\n",
    "        t_list = []\n",
    "        for i,j in zip(self.data.UserID.iloc[idxs],self.data.AnimeID.iloc[idxs]):\n",
    "            r = self.csr[i,j]\n",
    "            temp = self.sg.extract_graph(edge=(i,j),Arow=self.sg.data_r,Acol=self.sg.data_c,num_hops=1,g_label=r,max_nodes_per_hop=600)\n",
    "            if temp != None:\n",
    "                g = self.sg.make_sp_graph(temp[0],temp[1],temp[2],temp[3],temp[4],temp[5])\n",
    "                #g_list.append([g.x,to_sparse_tensor(g.a)])\n",
    "                x_list.append(g.x)\n",
    "                a_list.append(g.a)\n",
    "                t_list.append(g.y)\n",
    "        if len(t_list) == 0:\n",
    "            return None\n",
    "        return [to_disjoint(x_list,a_list),t_list]"
   ]
  },
  {
   "cell_type": "code",
   "execution_count": 4,
   "id": "b364fc09",
   "metadata": {},
   "outputs": [],
   "source": [
    "def ARRNorm(strength,coeffs):\n",
    "    \"\"\"\n",
    "    This function limits the difference in weights for adjacent ratings by applying a penalty.  It's controlled\n",
    "    by a strength parameter.\n",
    "    \"\"\"\n",
    "    reg = 0\n",
    "    for i in range(len(coeffs)-1):\n",
    "        reg += tf.norm((coeffs[i] - coeffs[i+1]))**2\n",
    "    return strength*reg"
   ]
  },
  {
   "cell_type": "markdown",
   "id": "a72f2329",
   "metadata": {},
   "source": [
    "This method is use to run a single evaluation step for the IGMC model, whereby the input enclosing subgraph is fed into the model, and the loss and predicted value are output."
   ]
  },
  {
   "cell_type": "code",
   "execution_count": 5,
   "id": "61e68c38",
   "metadata": {},
   "outputs": [],
   "source": [
    "def eval_step(inputs,target):\n",
    "    prediction = model(inputs,training=False)\n",
    "    loss = loss_fn(target,prediction)\n",
    "    return ((loss,prediction))"
   ]
  },
  {
   "cell_type": "code",
   "execution_count": null,
   "id": "925184be",
   "metadata": {},
   "outputs": [],
   "source": []
  },
  {
   "cell_type": "code",
   "execution_count": null,
   "id": "b5c4f224",
   "metadata": {},
   "outputs": [],
   "source": [
    "data = pd.read_csv('users_for_training_new_mapping.csv',index_col=0)\n",
    "anime = pd.read_csv('anime_REINDEXED.csv',index_col=0)\n",
    "data = data[data.User_Mapped.isin(shuffle(data.User_Mapped.unique(),random_state=42)[:6000])]\n",
    "unq = data.User_Mapped.unique()\n",
    "\n",
    "for i in range(len(unq)):\n",
    "    print(i)\n",
    "    data.UserID[data.User_Mapped == unq[i]] = i\n",
    "\n",
    "shape = (data['UserID'].max()+1,len(anime))\n",
    "coo = coo_matrix((data[\"Score\"], (data[\"UserID\"], data[\"AnimeID\"])), shape=shape)\n",
    "csr = coo.tocsr()\n",
    "\n",
    "data = data.sample(frac=1,random_state=42)"
   ]
  },
  {
   "cell_type": "code",
   "execution_count": null,
   "id": "f4a0609f",
   "metadata": {},
   "outputs": [],
   "source": [
    "model = IGMC()\n",
    "\n",
    "loss_fn = tf.keras.losses.MeanSquaredError()\n",
    "optimizer = tf.keras.optimizers.Adam(learning_rate=0.0025)\n",
    "train_gen = CustomGenerator(data=data,anime=anime,csr=csr,batch_size=4,data_type='train')\n",
    "\n",
    "step = 1\n",
    "for batch in train_gen.__iter__():\n",
    "    if step == 2:\n",
    "        print(\"Loading Weights...\")\n",
    "        model.load_weights('checkpoints/model_1m/epoch_' + str(5) + '.h5')\n",
    "            # for i,w in enumerate(model.coefficients):\n",
    "            #     print(i,w.name,w)\n",
    "        for i,conv in enumerate(model.convs):\n",
    "            print(i)\n",
    "            coeffs = []\n",
    "            for coeff in conv.coefficients:\n",
    "                coeffs.append(coeff.numpy())\n",
    "            print(coeffs)\n",
    "            break\n",
    "                \n",
    "    loss = train_step(*batch,step)\n",
    "    step += 1\n",
    "    if step > 2:\n",
    "        break\n",
    "\n",
    "for layer in model.layers:\n",
    "    print(layer.weights)"
   ]
  },
  {
   "cell_type": "markdown",
   "id": "9d62124d",
   "metadata": {},
   "source": [
    "The code below evaluates the IGMC model, calculating both the MSE and the MAP score on the unknown data."
   ]
  },
  {
   "cell_type": "markdown",
   "id": "b85156cd",
   "metadata": {},
   "source": [
    "First, the training data is loaded as before to construct the underlying csr matrix."
   ]
  },
  {
   "cell_type": "code",
   "execution_count": null,
   "id": "66186279",
   "metadata": {},
   "outputs": [],
   "source": [
    "data = pd.read_csv('users_for_training_new_mapping.csv',index_col=0)\n",
    "anime = pd.read_csv('anime_REINDEXED.csv',index_col=0)\n",
    "data = data[data.User_Mapped.isin(shuffle(data.User_Mapped.unique(),random_state=42)[:6000])]\n",
    "unq = data.User_Mapped.unique()\n",
    "\n",
    "for i in range(len(unq)):\n",
    "    print(i)\n",
    "    data.UserID[data.User_Mapped == unq[i]] = i\n",
    "\n",
    "shape = (data['UserID'].max()+1,len(anime))\n",
    "coo = coo_matrix((data[\"Score\"], (data[\"UserID\"], data[\"AnimeID\"])), shape=shape)\n",
    "csr = coo.tocsr()"
   ]
  },
  {
   "cell_type": "markdown",
   "id": "713239ab",
   "metadata": {},
   "source": [
    "Now, the test users are iterated over, constructing an enclosing subgraph from the training data and the known scores from the test user, with the aim of predicting the remaining unknown anime scores for that user.\n",
    "\n",
    "The code computes the MSE and the MAP scores for the entire unknown dataset."
   ]
  },
  {
   "cell_type": "code",
   "execution_count": null,
   "id": "dcedcb6a",
   "metadata": {},
   "outputs": [],
   "source": [
    "sqerror = 0\n",
    "count = 0\n",
    "users = 0\n",
    "APsum = 0\n",
    "\n",
    "#iterate over all test users\n",
    "for f in os.listdir('holdout_known'):\n",
    "    users += 1\n",
    "    recs = {}\n",
    "    sg = EnclosingSubgraph(csr)\n",
    "    known = pd.read_csv('holdout_known/' + f)\n",
    "    unknown = pd.read_csv('holdout_unknown/' + f)\n",
    "    \n",
    "    zmean = known['Score'].mean()\n",
    "    zstd = known['Score'].std()\n",
    "    unknown['Zscore'] = (unknown['Score'] - zmean)/zstd\n",
    "    \n",
    "    arr = np.zeros(len(anime))\n",
    "    for i in known.index:\n",
    "        np.put(arr,known.loc[i,'AnimeID'],known.loc[i,'Score'])\n",
    "    arr = arr.astype(int)\n",
    "    print(arr.dtype)\n",
    "    sg_temp = sg\n",
    "    \n",
    "    sg_temp.append_new_user([arr],0) #this line appends the known data for the test user to the csr matrix, allowing predictions to be made for that user\n",
    "    sg_temp.index_rows_cols()\n",
    "    \n",
    "    #iterate over every unseen anime for the current user\n",
    "    for i in unknown.index:\n",
    "        unum = 6000\n",
    "        anum = unknown.loc[i,'AnimeID']\n",
    "        rating = unknown.loc[i,'Score']\n",
    "        \n",
    "        #generate the enclosing subgraph for the user-anime pair to be fed into the IGMC model, and get the loss and prediction \n",
    "        try:\n",
    "            temp = sg_temp.extract_graph(edge=(unum,anum),Arow=sg_temp.data_r,Acol=sg_temp.data_c,num_hops=1,g_label=rating,max_nodes_per_hop=600)\n",
    "            g = sg_temp.make_sp_graph(temp[0],temp[1],temp[2],temp[3],temp[4],temp[5])\n",
    "            g_format = [(g.x,g.a),g.y]\n",
    "            loss,prediction = eval_step(g_format[0],g_format[1])\n",
    "        except:\n",
    "            continue\n",
    "            \n",
    "        #calculate the mse\n",
    "        sqerror += loss\n",
    "        count += 1\n",
    "        mse = sqerror/count\n",
    "        if count % 100 == 0:\n",
    "            print(\"Count:\" + str(count))\n",
    "            print(loss)\n",
    "            print(rating)\n",
    "            print(prediction)\n",
    "            print(\"MSE: \")\n",
    "            print(mse)\n",
    "        \n",
    "        recs[anum] = prediction\n",
    "        \n",
    "    unknown['Prediction'] = unknown['AnimeID'].apply(lambda x: recs[x].numpy()[0][0] if x in recs.keys() else 0)\n",
    "    print(unknown['Prediction'])\n",
    "    largest = unknown.nlargest(5,'Prediction')\n",
    "    \n",
    "    #calculate the MAP for the 5 largest predictions\n",
    "    rel = 0\n",
    "    AP = 0\n",
    "    for i in range(len(largest.index)):\n",
    "        rel += relevance(largest.loc[largest.index[i],'Score'],largest.loc[largest.index[i],'Zscore'])\n",
    "        AP += (rel/(i+1))\n",
    "    AP = AP/len(largest)\n",
    "\n",
    "    APsum += AP\n",
    "    MAP = APsum/users\n",
    "    \n",
    "    print(\"MSE: \" + str(mse))\n",
    "    print(\"MAP: \" + str(MAP))\n",
    "    \n",
    "        \n",
    "        \n",
    "        \n",
    "        "
   ]
  },
  {
   "cell_type": "markdown",
   "id": "5a21ed71",
   "metadata": {},
   "source": [
    "MSE: tf.Tensor(1.5173337, shape=(), dtype=float32)\n",
    "MAP: 0.7558906882591093"
   ]
  },
  {
   "cell_type": "markdown",
   "id": "d111f0bc",
   "metadata": {},
   "source": [
    "As can be seen below, both the RMSE and MAP scores show a notable improvement over the Matrix Factorization model. Unfortunately, the IGMC model takes a lot longer to run, so there is a clear tradeoff between predictive accuracy and runtime."
   ]
  },
  {
   "cell_type": "code",
   "execution_count": 11,
   "id": "8132099b",
   "metadata": {},
   "outputs": [
    {
     "name": "stdout",
     "output_type": "stream",
     "text": [
      "RMSE: 1.2318009985383191\n",
      "MAP: 0.7558907\n"
     ]
    }
   ],
   "source": [
    "print('RMSE: ' + str(np.sqrt(1.5173337)))\n",
    "print('MAP: ' + str(0.7558907))"
   ]
  },
  {
   "cell_type": "code",
   "execution_count": 4,
   "id": "6607fcef",
   "metadata": {},
   "outputs": [
    {
     "name": "stdout",
     "output_type": "stream",
     "text": [
      "       RMSE    MAP\n",
      "MF    1.290  0.691\n",
      "IGMC  1.231  0.756\n"
     ]
    }
   ],
   "source": [
    "results = pd.DataFrame(index=[\"MF\",\"IGMC\"],columns=[\"RMSE\",\"MAP\"],data=[[1.290,0.691],[1.231,0.756]])\n",
    "print(results)\n"
   ]
  },
  {
   "cell_type": "code",
   "execution_count": 45,
   "id": "631a19ae",
   "metadata": {},
   "outputs": [
    {
     "data": {
      "image/png": "[encoded data removed]",
      "text/plain": [
       "<Figure size 720x648 with 1 Axes>"
      ]
     },
     "metadata": {
      "needs_background": "light"
     },
     "output_type": "display_data"
    }
   ],
   "source": [
    "fig,ax = plt.subplots(figsize =(10, 9))\n",
    "ax.set_ylim([0.5,1.4])\n",
    "results.plot.bar(ax=ax)\n",
    "plt.ylabel(\"Final Score\")\n",
    "\n",
    "plt.text(-0.167,1.290+0.025,'1.290')\n",
    "plt.text(0.067,0.691+0.025,'0.691')\n",
    "plt.text(1-0.167,1.231+0.025,'1.231')\n",
    "plt.text(1+0.067,0.756+0.025,'0.756')\n",
    "\n",
    "plt.rcParams.update({'font.size': 12}) \n"
   ]
  },
  {
   "cell_type": "code",
   "execution_count": null,
   "id": "392eea07",
   "metadata": {},
   "outputs": [],
   "source": []
  }
 ],
 "metadata": {
  "kernelspec": {
   "display_name": "Python 3 (ipykernel)",
   "language": "python",
   "name": "python3"
  },
  "language_info": {
   "codemirror_mode": {
    "name": "ipython",
    "version": 3
   },
   "file_extension": ".py",
   "mimetype": "text/x-python",
   "name": "python",
   "nbconvert_exporter": "python",
   "pygments_lexer": "ipython3",
   "version": "3.10.9"
  }
 },
 "nbformat": 4,
 "nbformat_minor": 5
}
